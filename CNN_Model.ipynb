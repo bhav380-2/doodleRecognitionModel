{
  "nbformat": 4,
  "nbformat_minor": 0,
  "metadata": {
    "colab": {
      "provenance": [],
      "gpuType": "T4",
      "mount_file_id": "1NXPVF_R6r0mm4603_gNw8NlC8WjCo1fB",
      "authorship_tag": "ABX9TyMMCqsz4Xl3Xwmz67ksKbad",
      "include_colab_link": true
    },
    "kernelspec": {
      "name": "python3",
      "display_name": "Python 3"
    },
    "language_info": {
      "name": "python"
    },
    "accelerator": "GPU"
  },
  "cells": [
    {
      "cell_type": "markdown",
      "metadata": {
        "id": "view-in-github",
        "colab_type": "text"
      },
      "source": [
        "<a href=\"https://colab.research.google.com/github/bhav380-2/doodleRecognitionModel/blob/main/CNN_Model.ipynb\" target=\"_parent\"><img src=\"https://colab.research.google.com/assets/colab-badge.svg\" alt=\"Open In Colab\"/></a>"
      ]
    },
    {
      "cell_type": "code",
      "execution_count": null,
      "metadata": {
        "id": "giTd9oosU1_V"
      },
      "outputs": [],
      "source": []
    },
    {
      "cell_type": "markdown",
      "source": [
        "# New Section"
      ],
      "metadata": {
        "id": "OUw4XS5KnRi0"
      }
    },
    {
      "cell_type": "code",
      "source": [
        "%cd drive\n"
      ],
      "metadata": {
        "id": "cLehJHHph6ji",
        "colab": {
          "base_uri": "https://localhost:8080/"
        },
        "outputId": "048298b4-a04c-418d-9e0a-182f30e4548e"
      },
      "execution_count": null,
      "outputs": [
        {
          "output_type": "stream",
          "name": "stdout",
          "text": [
            "/content/drive\n"
          ]
        }
      ]
    },
    {
      "cell_type": "code",
      "source": [
        "%cd MyDrive"
      ],
      "metadata": {
        "colab": {
          "base_uri": "https://localhost:8080/"
        },
        "id": "VrruS4nvwpKn",
        "outputId": "dcb04b90-66fb-4813-c60b-bcc27bd02271"
      },
      "execution_count": null,
      "outputs": [
        {
          "output_type": "stream",
          "name": "stdout",
          "text": [
            "/content/drive/MyDrive\n"
          ]
        }
      ]
    },
    {
      "cell_type": "code",
      "source": [
        "%ls"
      ],
      "metadata": {
        "colab": {
          "base_uri": "https://localhost:8080/"
        },
        "id": "8zeIN9jlwr0k",
        "outputId": "926438e2-f571-48ed-b053-6c866c31c467"
      },
      "execution_count": null,
      "outputs": [
        {
          "output_type": "stream",
          "name": "stdout",
          "text": [
            "'BhaweshRathour (1).pdf'\n",
            "'BhaweshRathour (2).pdf'\n",
            "'BhaweshRathour (3).pdf'\n",
            "'BhaweshRathour (4).pdf'\n",
            " BhaweshRathour.pdf\n",
            " \u001b[0m\u001b[01;34mClassroom\u001b[0m/\n",
            " cloud_assign01.pdf\n",
            "\u001b[01;34m'Colab Notebooks'\u001b[0m/\n",
            " IMG_20240101_111618.png\n",
            " IMG_20240101_111618.png.gdoc\n",
            "'In line 26 ,U are making pf int type and saving double value in it .gdoc'\n",
            "'In line 9 inside for loop take i=0 and condition as i<n because if we take i=1 then for loop in line 11 prints only 1 star which is wrong it should print 2 stars.gdoc'\n",
            "'osr-dxfv-spt – 5 Sept 2023.gjam'\n",
            "'Project Link.gdoc'\n",
            " \u001b[01;34mshuffled_train_simplified\u001b[0m/\n",
            " shuffled_train_simplified.zip\n",
            "'Untitled document (1).gdoc'\n",
            "'Untitled document (2).gdoc'\n",
            "'Untitled document (3).gdoc'\n",
            "'Untitled document (4).gdoc'\n",
            "'Untitled document (5).gdoc'\n",
            "'Untitled document (6).gdoc'\n",
            "'Untitled document.gdoc'\n"
          ]
        }
      ]
    },
    {
      "cell_type": "code",
      "source": [
        "!unzip ./drive/MyDrive/shuffled_train_simplified.zip\n",
        "%ls"
      ],
      "metadata": {
        "colab": {
          "base_uri": "https://localhost:8080/"
        },
        "id": "JCOdHYA_wuNS",
        "outputId": "c6985e44-1629-4391-fcf3-a4783ad81e69"
      },
      "execution_count": 9,
      "outputs": [
        {
          "output_type": "stream",
          "name": "stdout",
          "text": [
            "Archive:  ./drive/MyDrive/shuffled_train_simplified.zip\n",
            "   creating: shuffled_train_simplified/\n",
            "  inflating: shuffled_train_simplified/train_file0.csv  \n",
            "  inflating: shuffled_train_simplified/train_file1.csv  \n",
            "  inflating: shuffled_train_simplified/train_file2.csv  \n",
            "  inflating: shuffled_train_simplified/train_file3.csv  \n",
            "  inflating: shuffled_train_simplified/train_file4.csv  \n",
            "  inflating: shuffled_train_simplified/train_file5.csv  \n",
            "  inflating: shuffled_train_simplified/train_file6.csv  \n",
            "  inflating: shuffled_train_simplified/train_file7.csv  \n",
            "  inflating: shuffled_train_simplified/train_file8.csv  \n",
            "  inflating: shuffled_train_simplified/train_file9.csv  \n",
            "  inflating: shuffled_train_simplified/train_file10.csv  \n",
            "  inflating: shuffled_train_simplified/train_file11.csv  \n",
            "  inflating: shuffled_train_simplified/train_file12.csv  \n",
            "  inflating: shuffled_train_simplified/train_file13.csv  \n",
            "  inflating: shuffled_train_simplified/train_file14.csv  \n",
            "  inflating: shuffled_train_simplified/train_file15.csv  \n",
            "  inflating: shuffled_train_simplified/train_file16.csv  \n",
            "  inflating: shuffled_train_simplified/train_file17.csv  \n",
            "  inflating: shuffled_train_simplified/train_file18.csv  \n",
            "  inflating: shuffled_train_simplified/train_file19.csv  \n",
            "  inflating: shuffled_train_simplified/train_file20.csv  \n",
            "  inflating: shuffled_train_simplified/train_file21.csv  \n",
            "  inflating: shuffled_train_simplified/train_file22.csv  \n",
            "  inflating: shuffled_train_simplified/train_file23.csv  \n",
            "  inflating: shuffled_train_simplified/train_file24.csv  \n",
            "  inflating: shuffled_train_simplified/train_file25.csv  \n",
            "  inflating: shuffled_train_simplified/train_file26.csv  \n",
            "  inflating: shuffled_train_simplified/train_file27.csv  \n",
            "  inflating: shuffled_train_simplified/train_file28.csv  \n",
            "  inflating: shuffled_train_simplified/train_file29.csv  \n",
            "  inflating: shuffled_train_simplified/train_file30.csv  \n",
            "  inflating: shuffled_train_simplified/train_file31.csv  \n",
            "  inflating: shuffled_train_simplified/train_file32.csv  \n",
            "  inflating: shuffled_train_simplified/train_file33.csv  \n",
            "  inflating: shuffled_train_simplified/train_file34.csv  \n",
            "  inflating: shuffled_train_simplified/train_file35.csv  \n",
            "  inflating: shuffled_train_simplified/train_file36.csv  \n",
            "  inflating: shuffled_train_simplified/train_file37.csv  \n",
            "  inflating: shuffled_train_simplified/train_file38.csv  \n",
            "  inflating: shuffled_train_simplified/train_file39.csv  \n",
            "  inflating: shuffled_train_simplified/train_file40.csv  \n",
            "  inflating: shuffled_train_simplified/train_file41.csv  \n",
            "  inflating: shuffled_train_simplified/train_file42.csv  \n",
            "  inflating: shuffled_train_simplified/train_file43.csv  \n",
            "  inflating: shuffled_train_simplified/train_file44.csv  \n",
            "  inflating: shuffled_train_simplified/train_file45.csv  \n",
            "  inflating: shuffled_train_simplified/train_file46.csv  \n",
            "  inflating: shuffled_train_simplified/train_file47.csv  \n",
            "  inflating: shuffled_train_simplified/train_file48.csv  \n",
            "  inflating: shuffled_train_simplified/train_file49.csv  \n",
            "  inflating: shuffled_train_simplified/train_file50.csv  \n",
            "  inflating: shuffled_train_simplified/train_file51.csv  \n",
            "  inflating: shuffled_train_simplified/train_file52.csv  \n",
            "  inflating: shuffled_train_simplified/train_file53.csv  \n",
            "  inflating: shuffled_train_simplified/train_file54.csv  \n",
            "  inflating: shuffled_train_simplified/train_file55.csv  \n",
            "  inflating: shuffled_train_simplified/train_file56.csv  \n",
            "  inflating: shuffled_train_simplified/train_file57.csv  \n",
            "  inflating: shuffled_train_simplified/train_file58.csv  \n",
            "  inflating: shuffled_train_simplified/train_file59.csv  \n",
            "  inflating: shuffled_train_simplified/train_file60.csv  \n",
            "  inflating: shuffled_train_simplified/train_file61.csv  \n",
            "  inflating: shuffled_train_simplified/train_file62.csv  \n",
            "  inflating: shuffled_train_simplified/train_file63.csv  \n",
            "  inflating: shuffled_train_simplified/train_file64.csv  \n",
            "  inflating: shuffled_train_simplified/train_file65.csv  \n",
            "  inflating: shuffled_train_simplified/train_file66.csv  \n",
            "  inflating: shuffled_train_simplified/train_file67.csv  \n",
            "  inflating: shuffled_train_simplified/train_file68.csv  \n",
            "  inflating: shuffled_train_simplified/train_file69.csv  \n",
            "  inflating: shuffled_train_simplified/train_file70.csv  \n",
            "  inflating: shuffled_train_simplified/train_file71.csv  \n",
            "  inflating: shuffled_train_simplified/train_file72.csv  \n",
            "  inflating: shuffled_train_simplified/train_file73.csv  \n",
            "  inflating: shuffled_train_simplified/train_file74.csv  \n",
            "  inflating: shuffled_train_simplified/train_file75.csv  \n",
            "  inflating: shuffled_train_simplified/train_file76.csv  \n",
            "  inflating: shuffled_train_simplified/train_file77.csv  \n",
            "  inflating: shuffled_train_simplified/train_file78.csv  \n",
            "  inflating: shuffled_train_simplified/train_file79.csv  \n",
            "  inflating: shuffled_train_simplified/train_file80.csv  \n",
            "  inflating: shuffled_train_simplified/train_file81.csv  \n",
            "  inflating: shuffled_train_simplified/train_file82.csv  \n",
            "  inflating: shuffled_train_simplified/train_file83.csv  \n",
            "  inflating: shuffled_train_simplified/train_file84.csv  \n",
            "  inflating: shuffled_train_simplified/train_file85.csv  \n",
            "  inflating: shuffled_train_simplified/train_file86.csv  \n",
            "  inflating: shuffled_train_simplified/train_file87.csv  \n",
            "  inflating: shuffled_train_simplified/train_file88.csv  \n",
            "  inflating: shuffled_train_simplified/train_file89.csv  \n",
            "  inflating: shuffled_train_simplified/train_file90.csv  \n",
            "  inflating: shuffled_train_simplified/train_file91.csv  \n",
            "  inflating: shuffled_train_simplified/train_file92.csv  \n",
            "  inflating: shuffled_train_simplified/train_file93.csv  \n",
            "  inflating: shuffled_train_simplified/train_file94.csv  \n",
            "  inflating: shuffled_train_simplified/train_file95.csv  \n",
            "  inflating: shuffled_train_simplified/train_file96.csv  \n",
            "  inflating: shuffled_train_simplified/train_file97.csv  \n",
            "  inflating: shuffled_train_simplified/train_file98.csv  \n",
            "  inflating: shuffled_train_simplified/train_file99.csv  \n",
            "\u001b[0m\u001b[01;34mdrive\u001b[0m/  \u001b[01;34msample_data\u001b[0m/  \u001b[01;34mshuffled_train_simplified\u001b[0m/\n"
          ]
        }
      ]
    },
    {
      "cell_type": "code",
      "source": [],
      "metadata": {
        "id": "ONDh1u3X4I6s"
      },
      "execution_count": null,
      "outputs": []
    },
    {
      "cell_type": "code",
      "source": [
        "import warnings\n",
        "warnings.filterwarnings('ignore')\n",
        "\n",
        "import ast\n",
        "import math\n",
        "import pandas as pd\n",
        "import glob\n",
        "import numpy as np\n",
        "import cv2\n",
        "\n",
        "# from simplification.cutil import simplify_coords\n",
        "\n",
        "import matplotlib.pyplot as plt\n",
        "import matplotlib.style as style\n",
        "\n",
        "%matplotlib inline\n",
        "%config InlineBackend.figure_format = 'retina'\n",
        "%matplotlib inline\n",
        "from IPython.core.interactiveshell import InteractiveShell\n",
        "InteractiveShell.ast_node_interactivity = \"all\"\n",
        "import json\n",
        "import os\n",
        "import datetime as dt\n",
        "from tqdm import tqdm\n",
        "import pandas as pd\n",
        "import numpy as np\n",
        "from glob import glob\n",
        "import re\n",
        "import ast\n",
        "# import cv2\n",
        "import csv\n",
        "import time\n",
        "import ast\n",
        "import urllib\n",
        "from PIL import Image, ImageDraw\n",
        "from tqdm import tqdm\n",
        "from dask import bag, threaded\n",
        "import matplotlib\n",
        "import matplotlib.pyplot as pltc\n",
        "import numpy as np\n",
        "import pandas as pd\n",
        "import tensorflow as tf\n",
        "import matplotlib.pyplot as plt\n",
        "from dask import bag, threaded\n",
        "from tensorflow import keras\n",
        "from tensorflow.keras.layers import Conv2D, MaxPooling2D\n",
        "from tensorflow.keras.layers import Dense, Dropout, Flatten, Activation\n",
        "from tensorflow.keras.metrics import categorical_accuracy, top_k_categorical_accuracy, categorical_crossentropy\n",
        "from tensorflow.keras.models import Sequential\n",
        "from tensorflow.keras.callbacks import EarlyStopping, ReduceLROnPlateau, ModelCheckpoint\n",
        "from tensorflow.keras.optimizers import Adam\n",
        "from tensorflow.keras.applications.nasnet import NASNetMobile\n",
        "from tensorflow.keras.preprocessing import image\n",
        "from tensorflow.keras.models import Model\n",
        "from tensorflow.keras.layers import Dense, GlobalAveragePooling2D\n",
        "from tensorflow.keras import backend as K\n",
        "from tensorflow.keras.applications import MobileNet\n",
        "from keras.models import Sequential,Model  #Input\n",
        "\n",
        "from keras.layers import Dense, Dropout, Flatten\n",
        "from keras.layers import Conv2D, MaxPooling2D\n",
        "# from keras.layers.normalization import BatchNormalization\n",
        "# from keras.layers.advanced_activations import LeakyReLU\n",
        "from keras.layers import LeakyReLU\n",
        "import os\n",
        "\n",
        "Base_Size = 256\n",
        "num_csv = 100\n",
        "num_class = 340\n",
        "size = 64\n",
        "steps = 17578\n",
        "batchsize = 256\n",
        "epochs = 100\n",
        "\n",
        "\n"
      ],
      "metadata": {
        "id": "UcrPjQolw01q"
      },
      "execution_count": 10,
      "outputs": []
    },
    {
      "cell_type": "code",
      "source": [
        "# dataset_folder = \"../dataset/new/train_simplified\"\n",
        "shuffled_folder = \"./shuffled_train_simplified\"\n"
      ],
      "metadata": {
        "id": "hjBTVR-2xJjF"
      },
      "execution_count": 21,
      "outputs": []
    },
    {
      "cell_type": "code",
      "source": [
        "num_classes = num_class\n",
        "\n",
        "model = Sequential()\n",
        "model.add(Conv2D(32, kernel_size=(3, 3),activation='relu',input_shape=(size,size,1),padding='same'))\n",
        "#model.add(LeakyReLU(alpha=0.1))\n",
        "model.add(MaxPooling2D((2, 2),padding='same'))\n",
        "model.add(Conv2D(64, (3, 3), activation='relu',padding='same'))\n",
        "#model.add(LeakyReLU(alpha=0.1))\n",
        "model.add(MaxPooling2D(pool_size=(2, 2),padding='same'))\n",
        "model.add(Conv2D(128, (3, 3), activation='relu',padding='same'))\n",
        "#model.add(LeakyReLU(alpha=0.1))\n",
        "model.add(MaxPooling2D(pool_size=(2, 2),padding='same'))\n",
        "model.add(Flatten())\n",
        "model.add(Dense(128, activation='linear'))\n",
        "model.add(LeakyReLU(alpha=0.1))\n",
        "model.add(Dense(num_classes, activation='softmax'))"
      ],
      "metadata": {
        "id": "pWAcMFxFxQR6"
      },
      "execution_count": 12,
      "outputs": []
    },
    {
      "cell_type": "code",
      "source": [
        "def top_3_accuracy(y_true, y_pred):\n",
        "    return top_k_categorical_accuracy(y_true, y_pred, k=3)"
      ],
      "metadata": {
        "id": "Ocx6rTGWxQ8o"
      },
      "execution_count": 13,
      "outputs": []
    },
    {
      "cell_type": "code",
      "source": [
        "model.compile(loss=keras.losses.categorical_crossentropy, optimizer=keras.optimizers.Adam(learning_rate=0.01),\n",
        "                      metrics=[categorical_crossentropy, categorical_accuracy, top_3_accuracy])\n",
        "\n",
        "model.summary()"
      ],
      "metadata": {
        "colab": {
          "base_uri": "https://localhost:8080/",
          "height": 449
        },
        "id": "tSyLW_X1xT5C",
        "outputId": "8431e3e4-827f-4319-9287-3077c606bebc"
      },
      "execution_count": 14,
      "outputs": [
        {
          "output_type": "display_data",
          "data": {
            "text/plain": [
              "\u001b[1mModel: \"sequential\"\u001b[0m\n"
            ],
            "text/html": [
              "<pre style=\"white-space:pre;overflow-x:auto;line-height:normal;font-family:Menlo,'DejaVu Sans Mono',consolas,'Courier New',monospace\"><span style=\"font-weight: bold\">Model: \"sequential\"</span>\n",
              "</pre>\n"
            ]
          },
          "metadata": {}
        },
        {
          "output_type": "display_data",
          "data": {
            "text/plain": [
              "┏━━━━━━━━━━━━━━━━━━━━━━━━━━━━━━━━━━━━━━┳━━━━━━━━━━━━━━━━━━━━━━━━━━━━━┳━━━━━━━━━━━━━━━━━┓\n",
              "┃\u001b[1m \u001b[0m\u001b[1mLayer (type)                        \u001b[0m\u001b[1m \u001b[0m┃\u001b[1m \u001b[0m\u001b[1mOutput Shape               \u001b[0m\u001b[1m \u001b[0m┃\u001b[1m \u001b[0m\u001b[1m        Param #\u001b[0m\u001b[1m \u001b[0m┃\n",
              "┡━━━━━━━━━━━━━━━━━━━━━━━━━━━━━━━━━━━━━━╇━━━━━━━━━━━━━━━━━━━━━━━━━━━━━╇━━━━━━━━━━━━━━━━━┩\n",
              "│ conv2d (\u001b[38;5;33mConv2D\u001b[0m)                      │ (\u001b[38;5;45mNone\u001b[0m, \u001b[38;5;34m64\u001b[0m, \u001b[38;5;34m64\u001b[0m, \u001b[38;5;34m32\u001b[0m)          │             \u001b[38;5;34m320\u001b[0m │\n",
              "├──────────────────────────────────────┼─────────────────────────────┼─────────────────┤\n",
              "│ max_pooling2d (\u001b[38;5;33mMaxPooling2D\u001b[0m)         │ (\u001b[38;5;45mNone\u001b[0m, \u001b[38;5;34m32\u001b[0m, \u001b[38;5;34m32\u001b[0m, \u001b[38;5;34m32\u001b[0m)          │               \u001b[38;5;34m0\u001b[0m │\n",
              "├──────────────────────────────────────┼─────────────────────────────┼─────────────────┤\n",
              "│ conv2d_1 (\u001b[38;5;33mConv2D\u001b[0m)                    │ (\u001b[38;5;45mNone\u001b[0m, \u001b[38;5;34m32\u001b[0m, \u001b[38;5;34m32\u001b[0m, \u001b[38;5;34m64\u001b[0m)          │          \u001b[38;5;34m18,496\u001b[0m │\n",
              "├──────────────────────────────────────┼─────────────────────────────┼─────────────────┤\n",
              "│ max_pooling2d_1 (\u001b[38;5;33mMaxPooling2D\u001b[0m)       │ (\u001b[38;5;45mNone\u001b[0m, \u001b[38;5;34m16\u001b[0m, \u001b[38;5;34m16\u001b[0m, \u001b[38;5;34m64\u001b[0m)          │               \u001b[38;5;34m0\u001b[0m │\n",
              "├──────────────────────────────────────┼─────────────────────────────┼─────────────────┤\n",
              "│ conv2d_2 (\u001b[38;5;33mConv2D\u001b[0m)                    │ (\u001b[38;5;45mNone\u001b[0m, \u001b[38;5;34m16\u001b[0m, \u001b[38;5;34m16\u001b[0m, \u001b[38;5;34m128\u001b[0m)         │          \u001b[38;5;34m73,856\u001b[0m │\n",
              "├──────────────────────────────────────┼─────────────────────────────┼─────────────────┤\n",
              "│ max_pooling2d_2 (\u001b[38;5;33mMaxPooling2D\u001b[0m)       │ (\u001b[38;5;45mNone\u001b[0m, \u001b[38;5;34m8\u001b[0m, \u001b[38;5;34m8\u001b[0m, \u001b[38;5;34m128\u001b[0m)           │               \u001b[38;5;34m0\u001b[0m │\n",
              "├──────────────────────────────────────┼─────────────────────────────┼─────────────────┤\n",
              "│ flatten (\u001b[38;5;33mFlatten\u001b[0m)                    │ (\u001b[38;5;45mNone\u001b[0m, \u001b[38;5;34m8192\u001b[0m)                │               \u001b[38;5;34m0\u001b[0m │\n",
              "├──────────────────────────────────────┼─────────────────────────────┼─────────────────┤\n",
              "│ dense (\u001b[38;5;33mDense\u001b[0m)                        │ (\u001b[38;5;45mNone\u001b[0m, \u001b[38;5;34m128\u001b[0m)                 │       \u001b[38;5;34m1,048,704\u001b[0m │\n",
              "├──────────────────────────────────────┼─────────────────────────────┼─────────────────┤\n",
              "│ leaky_re_lu (\u001b[38;5;33mLeakyReLU\u001b[0m)              │ (\u001b[38;5;45mNone\u001b[0m, \u001b[38;5;34m128\u001b[0m)                 │               \u001b[38;5;34m0\u001b[0m │\n",
              "├──────────────────────────────────────┼─────────────────────────────┼─────────────────┤\n",
              "│ dense_1 (\u001b[38;5;33mDense\u001b[0m)                      │ (\u001b[38;5;45mNone\u001b[0m, \u001b[38;5;34m340\u001b[0m)                 │          \u001b[38;5;34m43,860\u001b[0m │\n",
              "└──────────────────────────────────────┴─────────────────────────────┴─────────────────┘\n"
            ],
            "text/html": [
              "<pre style=\"white-space:pre;overflow-x:auto;line-height:normal;font-family:Menlo,'DejaVu Sans Mono',consolas,'Courier New',monospace\">┏━━━━━━━━━━━━━━━━━━━━━━━━━━━━━━━━━━━━━━┳━━━━━━━━━━━━━━━━━━━━━━━━━━━━━┳━━━━━━━━━━━━━━━━━┓\n",
              "┃<span style=\"font-weight: bold\"> Layer (type)                         </span>┃<span style=\"font-weight: bold\"> Output Shape                </span>┃<span style=\"font-weight: bold\">         Param # </span>┃\n",
              "┡━━━━━━━━━━━━━━━━━━━━━━━━━━━━━━━━━━━━━━╇━━━━━━━━━━━━━━━━━━━━━━━━━━━━━╇━━━━━━━━━━━━━━━━━┩\n",
              "│ conv2d (<span style=\"color: #0087ff; text-decoration-color: #0087ff\">Conv2D</span>)                      │ (<span style=\"color: #00d7ff; text-decoration-color: #00d7ff\">None</span>, <span style=\"color: #00af00; text-decoration-color: #00af00\">64</span>, <span style=\"color: #00af00; text-decoration-color: #00af00\">64</span>, <span style=\"color: #00af00; text-decoration-color: #00af00\">32</span>)          │             <span style=\"color: #00af00; text-decoration-color: #00af00\">320</span> │\n",
              "├──────────────────────────────────────┼─────────────────────────────┼─────────────────┤\n",
              "│ max_pooling2d (<span style=\"color: #0087ff; text-decoration-color: #0087ff\">MaxPooling2D</span>)         │ (<span style=\"color: #00d7ff; text-decoration-color: #00d7ff\">None</span>, <span style=\"color: #00af00; text-decoration-color: #00af00\">32</span>, <span style=\"color: #00af00; text-decoration-color: #00af00\">32</span>, <span style=\"color: #00af00; text-decoration-color: #00af00\">32</span>)          │               <span style=\"color: #00af00; text-decoration-color: #00af00\">0</span> │\n",
              "├──────────────────────────────────────┼─────────────────────────────┼─────────────────┤\n",
              "│ conv2d_1 (<span style=\"color: #0087ff; text-decoration-color: #0087ff\">Conv2D</span>)                    │ (<span style=\"color: #00d7ff; text-decoration-color: #00d7ff\">None</span>, <span style=\"color: #00af00; text-decoration-color: #00af00\">32</span>, <span style=\"color: #00af00; text-decoration-color: #00af00\">32</span>, <span style=\"color: #00af00; text-decoration-color: #00af00\">64</span>)          │          <span style=\"color: #00af00; text-decoration-color: #00af00\">18,496</span> │\n",
              "├──────────────────────────────────────┼─────────────────────────────┼─────────────────┤\n",
              "│ max_pooling2d_1 (<span style=\"color: #0087ff; text-decoration-color: #0087ff\">MaxPooling2D</span>)       │ (<span style=\"color: #00d7ff; text-decoration-color: #00d7ff\">None</span>, <span style=\"color: #00af00; text-decoration-color: #00af00\">16</span>, <span style=\"color: #00af00; text-decoration-color: #00af00\">16</span>, <span style=\"color: #00af00; text-decoration-color: #00af00\">64</span>)          │               <span style=\"color: #00af00; text-decoration-color: #00af00\">0</span> │\n",
              "├──────────────────────────────────────┼─────────────────────────────┼─────────────────┤\n",
              "│ conv2d_2 (<span style=\"color: #0087ff; text-decoration-color: #0087ff\">Conv2D</span>)                    │ (<span style=\"color: #00d7ff; text-decoration-color: #00d7ff\">None</span>, <span style=\"color: #00af00; text-decoration-color: #00af00\">16</span>, <span style=\"color: #00af00; text-decoration-color: #00af00\">16</span>, <span style=\"color: #00af00; text-decoration-color: #00af00\">128</span>)         │          <span style=\"color: #00af00; text-decoration-color: #00af00\">73,856</span> │\n",
              "├──────────────────────────────────────┼─────────────────────────────┼─────────────────┤\n",
              "│ max_pooling2d_2 (<span style=\"color: #0087ff; text-decoration-color: #0087ff\">MaxPooling2D</span>)       │ (<span style=\"color: #00d7ff; text-decoration-color: #00d7ff\">None</span>, <span style=\"color: #00af00; text-decoration-color: #00af00\">8</span>, <span style=\"color: #00af00; text-decoration-color: #00af00\">8</span>, <span style=\"color: #00af00; text-decoration-color: #00af00\">128</span>)           │               <span style=\"color: #00af00; text-decoration-color: #00af00\">0</span> │\n",
              "├──────────────────────────────────────┼─────────────────────────────┼─────────────────┤\n",
              "│ flatten (<span style=\"color: #0087ff; text-decoration-color: #0087ff\">Flatten</span>)                    │ (<span style=\"color: #00d7ff; text-decoration-color: #00d7ff\">None</span>, <span style=\"color: #00af00; text-decoration-color: #00af00\">8192</span>)                │               <span style=\"color: #00af00; text-decoration-color: #00af00\">0</span> │\n",
              "├──────────────────────────────────────┼─────────────────────────────┼─────────────────┤\n",
              "│ dense (<span style=\"color: #0087ff; text-decoration-color: #0087ff\">Dense</span>)                        │ (<span style=\"color: #00d7ff; text-decoration-color: #00d7ff\">None</span>, <span style=\"color: #00af00; text-decoration-color: #00af00\">128</span>)                 │       <span style=\"color: #00af00; text-decoration-color: #00af00\">1,048,704</span> │\n",
              "├──────────────────────────────────────┼─────────────────────────────┼─────────────────┤\n",
              "│ leaky_re_lu (<span style=\"color: #0087ff; text-decoration-color: #0087ff\">LeakyReLU</span>)              │ (<span style=\"color: #00d7ff; text-decoration-color: #00d7ff\">None</span>, <span style=\"color: #00af00; text-decoration-color: #00af00\">128</span>)                 │               <span style=\"color: #00af00; text-decoration-color: #00af00\">0</span> │\n",
              "├──────────────────────────────────────┼─────────────────────────────┼─────────────────┤\n",
              "│ dense_1 (<span style=\"color: #0087ff; text-decoration-color: #0087ff\">Dense</span>)                      │ (<span style=\"color: #00d7ff; text-decoration-color: #00d7ff\">None</span>, <span style=\"color: #00af00; text-decoration-color: #00af00\">340</span>)                 │          <span style=\"color: #00af00; text-decoration-color: #00af00\">43,860</span> │\n",
              "└──────────────────────────────────────┴─────────────────────────────┴─────────────────┘\n",
              "</pre>\n"
            ]
          },
          "metadata": {}
        },
        {
          "output_type": "display_data",
          "data": {
            "text/plain": [
              "\u001b[1m Total params: \u001b[0m\u001b[38;5;34m1,185,236\u001b[0m (4.52 MB)\n"
            ],
            "text/html": [
              "<pre style=\"white-space:pre;overflow-x:auto;line-height:normal;font-family:Menlo,'DejaVu Sans Mono',consolas,'Courier New',monospace\"><span style=\"font-weight: bold\"> Total params: </span><span style=\"color: #00af00; text-decoration-color: #00af00\">1,185,236</span> (4.52 MB)\n",
              "</pre>\n"
            ]
          },
          "metadata": {}
        },
        {
          "output_type": "display_data",
          "data": {
            "text/plain": [
              "\u001b[1m Trainable params: \u001b[0m\u001b[38;5;34m1,185,236\u001b[0m (4.52 MB)\n"
            ],
            "text/html": [
              "<pre style=\"white-space:pre;overflow-x:auto;line-height:normal;font-family:Menlo,'DejaVu Sans Mono',consolas,'Courier New',monospace\"><span style=\"font-weight: bold\"> Trainable params: </span><span style=\"color: #00af00; text-decoration-color: #00af00\">1,185,236</span> (4.52 MB)\n",
              "</pre>\n"
            ]
          },
          "metadata": {}
        },
        {
          "output_type": "display_data",
          "data": {
            "text/plain": [
              "\u001b[1m Non-trainable params: \u001b[0m\u001b[38;5;34m0\u001b[0m (0.00 B)\n"
            ],
            "text/html": [
              "<pre style=\"white-space:pre;overflow-x:auto;line-height:normal;font-family:Menlo,'DejaVu Sans Mono',consolas,'Courier New',monospace\"><span style=\"font-weight: bold\"> Non-trainable params: </span><span style=\"color: #00af00; text-decoration-color: #00af00\">0</span> (0.00 B)\n",
              "</pre>\n"
            ]
          },
          "metadata": {}
        }
      ]
    },
    {
      "cell_type": "code",
      "source": [
        "#Test\n",
        "def draw_cv2(raw_strokes, size=size, lw=6):\n",
        "    img = np.zeros((Base_Size, Base_Size))\n",
        "    for stroke in raw_strokes:\n",
        "        for i in range(len(stroke[0]) - 1):\n",
        "            img = cv2.line(img, (stroke[0][i], stroke[1][i]), (stroke[0][i + 1], stroke[1][i + 1]), 255, lw)\n",
        "    return (cv2.resize(img, (size, size))/ 255.)"
      ],
      "metadata": {
        "id": "736O7d3OxZQr"
      },
      "execution_count": 15,
      "outputs": []
    },
    {
      "cell_type": "code",
      "source": [
        "def image_generator(size, batchsize, ks, lw=6):\n",
        "    print(\"ks \",ks)\n",
        "    while True:\n",
        "\n",
        "        for k in np.random.permutation(ks):\n",
        "            filename = os.path.join(shuffled_folder, 'train_file{}.csv'.format(k))\n",
        "            for df in pd.read_csv(filename, chunksize=batchsize,nrows=45000):\n",
        "                x = np.zeros((len(df), size, size))\n",
        "                df['drawing'] = [ast.literal_eval(pts) for pts in df['drawing'].values]\n",
        "                df['drawing'] = df['drawing'].apply(draw_cv2)\n",
        "                x = np.vstack([a for a in df['drawing']]).reshape((len(df),size,size,1))\n",
        "                y = tf.keras.utils.to_categorical(df.y, num_classes=num_class)\n",
        "                yield x,y"
      ],
      "metadata": {
        "id": "NOlIPgxkxcTD"
      },
      "execution_count": 16,
      "outputs": []
    },
    {
      "cell_type": "code",
      "source": [
        "def df_to_image_array(df, size=size, lw=6):\n",
        "    df['drawing'] = [ast.literal_eval(pts) for pts in df['drawing'].values]\n",
        "    x = np.zeros((len(df), size, size))\n",
        "\n",
        "    df['drawing'] = df['drawing'].apply(draw_cv2)\n",
        "    x = np.vstack([a for a in df['drawing']]).reshape((len(df),size,size,1))\n",
        "#     x = np.vstack([a for a in df['drawing']])\n",
        "    return x"
      ],
      "metadata": {
        "id": "JYusX-oOxfpN"
      },
      "execution_count": 17,
      "outputs": []
    },
    {
      "cell_type": "code",
      "source": [
        "valid_df = pd.read_csv(os.path.join(shuffled_folder, 'train_file{}.csv'.format(num_csv - 1)), nrows=45000)\n",
        "print('hi1')\n",
        "x_valid = df_to_image_array(valid_df, size)\n",
        "print('hi2')\n",
        "y_valid = tf.keras.utils.to_categorical(valid_df.y, num_classes=num_class)\n",
        "print(x_valid.shape,y_valid.shape)\n",
        "\n",
        "\n"
      ],
      "metadata": {
        "colab": {
          "base_uri": "https://localhost:8080/"
        },
        "id": "atjTgfMoxvAx",
        "outputId": "0dcc1740-1d34-4799-b4e3-f0fb51d3d4bb"
      },
      "execution_count": 18,
      "outputs": [
        {
          "output_type": "stream",
          "name": "stdout",
          "text": [
            "hi1\n",
            "hi2\n",
            "(45000, 64, 64, 1) (45000, 340)\n"
          ]
        }
      ]
    },
    {
      "cell_type": "code",
      "source": [
        "callbacks = [\n",
        "    ReduceLROnPlateau(monitor='val_top_3_accuracy', factor=0.3, patience=5,\n",
        "                      min_delta=0.005, mode='max', verbose=1),\n",
        "    tf.keras.callbacks.EarlyStopping(monitor='loss', patience=3),\n",
        "    ModelCheckpoint('CNN.weights.h5', monitor='val_top_3_accuracy', mode='max', save_best_only=True, save_weights_only=True)\n",
        "]\n",
        "\n",
        "# callbacks = [\n",
        "#     ModelCheckpoint('model.h5', save_best_only=True),\n",
        "#     EarlyStopping(patience=5)\n",
        "# ]\n",
        "\n",
        "train_datagen = image_generator(size=size, batchsize=batchsize, ks=range(num_csv - 1))\n",
        "\n",
        "# clf = model.fit(\n",
        "#     train_datagen, steps_per_epoch=steps, epochs=1, verbose=1,\n",
        "#     validation_data=(x_valid, y_valid),\n",
        "#     callbacks = callbacks\n",
        "# )\n",
        "\n",
        "clf = model.fit(\n",
        "    train_datagen,\n",
        "    steps_per_epoch=steps,\n",
        "    epochs=1,\n",
        "    verbose=1,\n",
        "    validation_data=(x_valid, y_valid),\n",
        "    callbacks=callbacks\n",
        ")\n",
        "\n",
        "# Save the model after the first 3 epochs\n",
        "model.save('model_after_1_epochs.h5')"
      ],
      "metadata": {
        "id": "CvRcTdY1Y0W9",
        "colab": {
          "base_uri": "https://localhost:8080/"
        },
        "outputId": "9f6b5734-5ad4-4e30-d567-9f4be06e1f7f"
      },
      "execution_count": null,
      "outputs": [
        {
          "output_type": "stream",
          "name": "stdout",
          "text": [
            "ks  range(0, 99)\n",
            "\u001b[1m 5428/17578\u001b[0m \u001b[32m━━━━━━\u001b[0m\u001b[37m━━━━━━━━━━━━━━\u001b[0m \u001b[1m36:15\u001b[0m 179ms/step - categorical_accuracy: 0.0033 - categorical_crossentropy: 5.8250 - loss: 5.8250 - top_3_accuracy: 0.0101"
          ]
        }
      ]
    },
    {
      "cell_type": "code",
      "source": [
        "# tf.keras.models.save_model(model, 'model')"
      ],
      "metadata": {
        "id": "imJeeWaJY0Zs"
      },
      "execution_count": null,
      "outputs": []
    },
    {
      "cell_type": "code",
      "source": [
        "# Load the saved model\n",
        "# # from tensorflow.keras.models import load_model\n",
        "\n",
        "# model = load_model('model_after_1_epochs.h5')\n",
        "\n",
        "# # Continue training from the 2nd epoch\n",
        "# model.fit(\n",
        "#     train_datagen,\n",
        "#     steps_per_epoch=steps_per_epoch,\n",
        "#     epochs=1,  # Train for 1 more epochs\n",
        "#     initial_epoch=1,  # Start from epoch 1\n",
        "#     verbose=1,\n",
        "#     validation_data=(x_valid, y_valid),\n",
        "#     callbacks=callbacks\n",
        "# )\n",
        "\n",
        "# # Save the model after these additional 3 epochs\n",
        "# model.save('model_after_2_epochs.h5')\n"
      ],
      "metadata": {
        "id": "WMVRHTNIzgjZ"
      },
      "execution_count": null,
      "outputs": []
    },
    {
      "cell_type": "code",
      "source": [
        "# tf.keras.models.load_model(\n",
        "#     filepath, custom_objects=None, compile=True, safe_mode=True\n",
        "# )"
      ],
      "metadata": {
        "id": "K1X9JBhEY0by"
      },
      "execution_count": null,
      "outputs": []
    },
    {
      "cell_type": "code",
      "source": [],
      "metadata": {
        "id": "hqJFyfAt3NgG"
      },
      "execution_count": null,
      "outputs": []
    },
    {
      "cell_type": "code",
      "source": [],
      "metadata": {
        "id": "HnJYykgB3aZo"
      },
      "execution_count": null,
      "outputs": []
    },
    {
      "cell_type": "code",
      "source": [
        "\n"
      ],
      "metadata": {
        "id": "9ncWJlYB3YH-"
      },
      "execution_count": null,
      "outputs": []
    },
    {
      "cell_type": "code",
      "source": [],
      "metadata": {
        "id": "dH15kPO23kGm"
      },
      "execution_count": null,
      "outputs": []
    },
    {
      "cell_type": "code",
      "source": [],
      "metadata": {
        "id": "bjFRJzzK3VYw"
      },
      "execution_count": null,
      "outputs": []
    },
    {
      "cell_type": "code",
      "source": [],
      "metadata": {
        "id": "Mj6LCHyE3SLK"
      },
      "execution_count": null,
      "outputs": []
    },
    {
      "cell_type": "code",
      "source": [],
      "metadata": {
        "id": "ir8MRvtP36rV"
      },
      "execution_count": null,
      "outputs": []
    }
  ]
}